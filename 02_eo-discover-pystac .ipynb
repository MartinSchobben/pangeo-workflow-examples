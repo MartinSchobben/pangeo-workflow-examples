{
 "cells": [
  {
   "cell_type": "code",
   "execution_count": null,
   "metadata": {},
   "outputs": [],
   "source": [
    "from pystac_client import Client\n",
    "from odc.stac import configure_rio, stac_load"
   ]
  },
  {
   "cell_type": "code",
   "execution_count": null,
   "metadata": {},
   "outputs": [],
   "source": [
    "catalog = Client.open(\"http://stac_server:5000/\")\n",
    "catalog"
   ]
  },
  {
   "cell_type": "code",
   "execution_count": null,
   "metadata": {},
   "outputs": [],
   "source": [
    "bbox = [0, 43.75, 0.75, 44]\n",
    "start='2018-01-20'\n",
    "end='2018-01-23'\n",
    "\n",
    "collections = [\"S1_SAR_GRD\"]\n",
    "\n",
    "\n",
    "query = catalog.search(\n",
    "    bbox=bbox, collections=collections, datetime=f\"{start}/{end}\"\n",
    ")\n",
    "query\n",
    "items = list(query.items())\n",
    "print(f\"Found: {len(items):d} datasets\")"
   ]
  },
  {
   "cell_type": "code",
   "execution_count": null,
   "metadata": {},
   "outputs": [],
   "source": [
    "crs = \"EPSG:6933\"\n",
    "resolution = 20\n",
    "\n",
    "ds = stac_load(\n",
    "    items,\n",
    "    bands=(\"red\", \"green\", \"blue\", \"nir\"),\n",
    "    crs=crs,\n",
    "    resolution=resolution,\n",
    "    chunks={},\n",
    "    groupby=\"solar_day\",\n",
    "    bbox=bbox,\n",
    ")"
   ]
  }
 ],
 "metadata": {
  "language_info": {
   "name": "python"
  }
 },
 "nbformat": 4,
 "nbformat_minor": 2
}
