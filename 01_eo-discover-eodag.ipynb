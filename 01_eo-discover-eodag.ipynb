{
 "cells": [
  {
   "cell_type": "code",
   "execution_count": null,
   "metadata": {},
   "outputs": [],
   "source": [
    "from eodag.api.core import EODataAccessGateway\n",
    "dag = EODataAccessGateway()"
   ]
  },
  {
   "cell_type": "code",
   "execution_count": null,
   "metadata": {},
   "outputs": [],
   "source": [
    "product_type = 'S1_SAR_GRD'\n",
    "footprint = {'lonmin': 0, 'latmin': 43.75, 'lonmax': 0.75, 'latmax': 44}\n",
    "products, _ = dag.search(productType=product_type,\n",
    "                         geom=footprint,\n",
    "                         start='2018-01-20',\n",
    "                         end='2018-01-23',\n",
    "                         items_per_page=3)\n",
    "products"
   ]
  },
  {
   "cell_type": "code",
   "execution_count": null,
   "metadata": {},
   "outputs": [],
   "source": [
    "dag.download_all(products)"
   ]
  }
 ],
 "metadata": {
  "language_info": {
   "name": "python"
  }
 },
 "nbformat": 4,
 "nbformat_minor": 2
}
